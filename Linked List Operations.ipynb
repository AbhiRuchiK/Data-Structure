{
 "cells": [
  {
   "cell_type": "code",
   "execution_count": null,
   "metadata": {},
   "outputs": [],
   "source": [
    "class linkedlist:\n",
    "    def __init__(self, dataval=None):\n",
    "        self.dataval = dataval\n",
    "        self.nextval = None\n",
    "\n",
    "class headnode:\n",
    "    def __init__(self):\n",
    "        self.lead = None\n",
    "        \n",
    "print(\"insert months:\\n\")\n",
    "leadnode = headnode()\n",
    "for i in range(10):\n",
    "    a = input(\"enter: \\n\")\n",
    "    if leadnode.lead == None:\n",
    "        leadnode.lead = linkedlist(a)\n",
    "        obj = leadnode.lead\n",
    "    else:\n",
    "        obj1 = linkedlist(a)\n",
    "        obj.nextval = obj1\n",
    "        obj = obj1"
   ]
  },
  {
   "cell_type": "code",
   "execution_count": 13,
   "metadata": {},
   "outputs": [],
   "source": [
    "def PrintMonths(printnode):\n",
    "    print(\"\\nprint months:\")\n",
    "\n",
    "    while printnode is not None:\n",
    "        print(printnode.dataval)\n",
    "        printnode = printnode.nextval"
   ]
  },
  {
   "cell_type": "code",
   "execution_count": 14,
   "metadata": {
    "scrolled": true
   },
   "outputs": [
    {
     "name": "stdout",
     "output_type": "stream",
     "text": [
      "\n",
      "print months:\n",
      "a\n",
      "b\n",
      "c\n",
      "d\n",
      "e\n",
      "f\n",
      "g\n",
      "h\n",
      "j\n",
      "k\n"
     ]
    }
   ],
   "source": [
    "PrintMonths(leadnode.lead)"
   ]
  },
  {
   "cell_type": "code",
   "execution_count": 15,
   "metadata": {},
   "outputs": [
    {
     "name": "stdout",
     "output_type": "stream",
     "text": [
      "\n",
      "DeleteatMiddle: Enter the month which you want to delete from list:\n",
      "d\n"
     ]
    }
   ],
   "source": [
    "number = input(\"\\nDeleteatMiddle: Enter the month which you want to delete from list:\\n\")\n",
    "\n",
    "DeleteatMiddle(leadnode.lead)\n",
    " "
   ]
  },
  {
   "cell_type": "code",
   "execution_count": 8,
   "metadata": {},
   "outputs": [],
   "source": [
    "   \n",
    "def DeleteatMiddle(node):\n",
    "    if node.nextval.dataval == number:\n",
    "        temp = node.nextval\n",
    "        node.nextval = node.nextval.nextval\n",
    "        del temp\n",
    "\t\n",
    "    "
   ]
  },
  {
   "cell_type": "code",
   "execution_count": 16,
   "metadata": {},
   "outputs": [
    {
     "name": "stdout",
     "output_type": "stream",
     "text": [
      "\n",
      "print months:\n",
      "a\n",
      "b\n",
      "c\n",
      "d\n",
      "e\n",
      "f\n",
      "g\n",
      "h\n",
      "j\n",
      "k\n"
     ]
    }
   ],
   "source": [
    "PrintMonths(leadnode.lead)"
   ]
  },
  {
   "cell_type": "code",
   "execution_count": null,
   "metadata": {},
   "outputs": [],
   "source": []
  }
 ],
 "metadata": {
  "kernelspec": {
   "display_name": "Python 3",
   "language": "python",
   "name": "python3"
  },
  "language_info": {
   "codemirror_mode": {
    "name": "ipython",
    "version": 3
   },
   "file_extension": ".py",
   "mimetype": "text/x-python",
   "name": "python",
   "nbconvert_exporter": "python",
   "pygments_lexer": "ipython3",
   "version": "3.6.5"
  }
 },
 "nbformat": 4,
 "nbformat_minor": 2
}

{
 "cells": [
  {
   "cell_type": "code",
   "execution_count": 17,
   "metadata": {},
   "outputs": [
    {
     "name": "stdout",
     "output_type": "stream",
     "text": [
      "insert months:\n",
      "\n",
      "enter: \n",
      "1\n",
      "enter: \n",
      "2\n",
      "enter: \n",
      "3\n",
      "enter: \n",
      "4\n",
      "enter: \n",
      "5\n",
      "enter: \n",
      "6\n",
      "enter: \n",
      "7\n",
      "enter: \n",
      "8\n",
      "enter: \n",
      "9\n",
      "enter: \n",
      "22\n"
     ]
    }
   ],
   "source": [
    "class linkedlist:\n",
    "    def __init__(self, dataval=None):\n",
    "        self.dataval = dataval\n",
    "        self.nextval = None\n",
    "\n",
    "class headnode:\n",
    "    def __init__(self):\n",
    "        self.lead = None\n",
    "        \n",
    "print(\"insert months:\\n\")\n",
    "leadnode = headnode()\n",
    "for i in range(10):\n",
    "    a = input(\"enter: \\n\")\n",
    "    if leadnode.lead == None:\n",
    "        leadnode.lead = linkedlist(a)\n",
    "        obj = leadnode.lead\n",
    "    else:\n",
    "        obj1 = linkedlist(a)\n",
    "        obj.nextval = obj1\n",
    "        obj = obj1"
   ]
  },
  {
   "cell_type": "code",
   "execution_count": 18,
   "metadata": {},
   "outputs": [],
   "source": [
    "def PrintMonths(printnode):\n",
    "    print(\"\\nprint months:\")\n",
    "\n",
    "    while printnode is not None:\n",
    "        print(printnode.dataval)\n",
    "        printnode = printnode.nextval"
   ]
  },
  {
   "cell_type": "code",
   "execution_count": 19,
   "metadata": {
    "scrolled": true
   },
   "outputs": [
    {
     "name": "stdout",
     "output_type": "stream",
     "text": [
      "\n",
      "print months:\n",
      "1\n",
      "2\n",
      "3\n",
      "4\n",
      "5\n",
      "6\n",
      "7\n",
      "8\n",
      "9\n",
      "22\n"
     ]
    }
   ],
   "source": [
    "PrintMonths(leadnode.lead)"
   ]
  },
  {
   "cell_type": "code",
   "execution_count": 28,
   "metadata": {},
   "outputs": [],
   "source": [
    "   \n",
    "def DeleteatMiddle(node):\n",
    "    if node.nextval.dataval == number:\n",
    "        temp = node.nextval\n",
    "        node.nextval = node.nextval.nextval\n",
    "        del temp\n",
    "    else:\n",
    "        DeleteatMiddle(node.nextval)\n",
    "\t\n",
    "    "
   ]
  },
  {
   "cell_type": "code",
   "execution_count": 31,
   "metadata": {},
   "outputs": [
    {
     "name": "stdout",
     "output_type": "stream",
     "text": [
      "\n",
      "DeleteatMiddle: Enter the month which you want to delete from list:\n",
      "9\n"
     ]
    }
   ],
   "source": [
    "number = input(\"\\nDeleteatMiddle: Enter the month which you want to delete from list:\\n\")\n",
    "\n",
    "DeleteatMiddle(leadnode.lead)\n",
    " "
   ]
  },
  {
   "cell_type": "code",
   "execution_count": 32,
   "metadata": {
    "scrolled": true
   },
   "outputs": [
    {
     "name": "stdout",
     "output_type": "stream",
     "text": [
      "\n",
      "print months:\n",
      "1\n",
      "3\n",
      "6\n",
      "7\n",
      "8\n",
      "22\n"
     ]
    }
   ],
   "source": [
    "PrintMonths(leadnode.lead)"
   ]
  },
  {
   "cell_type": "code",
   "execution_count": 38,
   "metadata": {},
   "outputs": [],
   "source": [
    "def DeleteatFirst(node):\n",
    "    temp = node.nextval\n",
    "    leadnode.lead = node.nextval\n",
    "    del temp\n",
    "    PrintMonths(leadnode.lead)"
   ]
  },
  {
   "cell_type": "code",
   "execution_count": 39,
   "metadata": {},
   "outputs": [
    {
     "name": "stdout",
     "output_type": "stream",
     "text": [
      "Delete first element from list: \n",
      "\n",
      "print months:\n",
      "7\n",
      "8\n",
      "22\n"
     ]
    }
   ],
   "source": [
    "print(\"Delete first element from list: \")\n",
    "\n",
    "DeleteatFirst(leadnode.lead)\n",
    " "
   ]
  },
  {
   "cell_type": "code",
   "execution_count": null,
   "metadata": {},
   "outputs": [],
   "source": []
  }
 ],
 "metadata": {
  "kernelspec": {
   "display_name": "Python 3",
   "language": "python",
   "name": "python3"
  },
  "language_info": {
   "codemirror_mode": {
    "name": "ipython",
    "version": 3
   },
   "file_extension": ".py",
   "mimetype": "text/x-python",
   "name": "python",
   "nbconvert_exporter": "python",
   "pygments_lexer": "ipython3",
   "version": "3.6.5"
  }
 },
 "nbformat": 4,
 "nbformat_minor": 2
}

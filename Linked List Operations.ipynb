{
 "cells": [
  {
   "cell_type": "code",
   "execution_count": 1,
   "metadata": {},
   "outputs": [],
   "source": [
    "import random\n",
    "class LinkedList:\n",
    "    def __init__(self, Val = None):\n",
    "        self.val = Val\n",
    "        self.ptr = None\n",
    "\n",
    "class HeadNode:\n",
    "    def __init__(self):\n",
    "        self.leadnode = None"
   ]
  },
  {
   "cell_type": "code",
   "execution_count": 2,
   "metadata": {},
   "outputs": [],
   "source": [
    "RootNode = HeadNode()"
   ]
  },
  {
   "cell_type": "code",
   "execution_count": 3,
   "metadata": {},
   "outputs": [],
   "source": [
    "def CreateList(number, obj):\n",
    "    if RootNode.leadnode == None:\n",
    "        RootNode.leadnode = LinkedList(number)\n",
    "        obj = RootNode.leadnode\n",
    "    else:\n",
    "        obj1 = LinkedList(number)\n",
    "        obj.ptr = obj1\n",
    "        obj = obj1\n",
    "    return obj"
   ]
  },
  {
   "cell_type": "markdown",
   "metadata": {},
   "source": [
    "# Here we first check weather it is  prime number or not. If prime number is there we create a node = call function CurrentNode  "
   ]
  },
  {
   "cell_type": "code",
   "execution_count": 4,
   "metadata": {},
   "outputs": [],
   "source": [
    "CurrentNode = None\n",
    "for i in range(100):\n",
    "    prime = random.randint(47, 5678)\n",
    "    for j in range(2,prime+1):\n",
    "        if (prime%j) == 0:\n",
    "            break                                    \n",
    "    if prime == j:\n",
    "        CurrentNode = CreateList(prime, CurrentNode)"
   ]
  },
  {
   "cell_type": "code",
   "execution_count": 5,
   "metadata": {},
   "outputs": [],
   "source": [
    "def Print_Linked_List(printnode):\n",
    "    while printnode is not None:\n",
    "        print(printnode.val)\n",
    "        printnode = printnode.ptr"
   ]
  },
  {
   "cell_type": "code",
   "execution_count": 6,
   "metadata": {},
   "outputs": [
    {
     "name": "stdout",
     "output_type": "stream",
     "text": [
      "1129\n",
      "1231\n",
      "1427\n",
      "5303\n",
      "5531\n",
      "3779\n",
      "5507\n",
      "2557\n",
      "4283\n",
      "4229\n",
      "2801\n",
      "1733\n",
      "3559\n",
      "1223\n",
      "2719\n"
     ]
    }
   ],
   "source": [
    "#Print LInked List\n",
    "Print_Linked_List(RootNode.leadnode)"
   ]
  },
  {
   "cell_type": "markdown",
   "metadata": {},
   "source": [
    "# Deletion in Front FIFO:"
   ]
  },
  {
   "cell_type": "code",
   "execution_count": 7,
   "metadata": {},
   "outputs": [],
   "source": [
    "def DeleteFIFO():\n",
    "    temp = RootNode.leadnode\n",
    "    RootNode.leadnode = RootNode.leadnode.ptr\n",
    "    del temp\n",
    "\n",
    "DeleteFIFO()"
   ]
  },
  {
   "cell_type": "code",
   "execution_count": 8,
   "metadata": {},
   "outputs": [
    {
     "name": "stdout",
     "output_type": "stream",
     "text": [
      "\n",
      "Linked List after deletion FIFO:\n",
      "\n",
      "1231\n",
      "1427\n",
      "5303\n",
      "5531\n",
      "3779\n",
      "5507\n",
      "2557\n",
      "4283\n",
      "4229\n",
      "2801\n",
      "1733\n",
      "3559\n",
      "1223\n",
      "2719\n"
     ]
    }
   ],
   "source": [
    "#Print Linked List\n",
    "\n",
    "print(\"\\nLinked List after deletion FIFO:\\n\")        \n",
    "\n",
    "Print_Linked_List(RootNode.leadnode)"
   ]
  },
  {
   "cell_type": "markdown",
   "metadata": {},
   "source": [
    "# Delete in Middle at a given number:"
   ]
  },
  {
   "cell_type": "code",
   "execution_count": 9,
   "metadata": {},
   "outputs": [
    {
     "name": "stdout",
     "output_type": "stream",
     "text": [
      "\n",
      "DeleteinMiddle: Enter the position of number which you want to delete from list:\n",
      "5\n"
     ]
    }
   ],
   "source": [
    "position = int(input(\"\\nDeleteinMiddle: Enter the position of number which you want to delete from list:\\n\"))\n",
    "\n",
    "def DeleteMiddlePosition(pos, node):\n",
    "    if pos == position-2:\n",
    "        temp = node.ptr\n",
    "        node.ptr = node.ptr.ptr\n",
    "        del temp\n",
    "        return\n",
    "    else:\n",
    "        DeleteMiddlePosition(pos+1 , node.ptr)\n",
    "\n",
    "DeleteMiddlePosition(int(0), RootNode.leadnode)"
   ]
  },
  {
   "cell_type": "code",
   "execution_count": 10,
   "metadata": {},
   "outputs": [
    {
     "name": "stdout",
     "output_type": "stream",
     "text": [
      "\n",
      "Linked List after deletion Middle @Position:\n",
      "\n",
      "1231\n",
      "1427\n",
      "5303\n",
      "5531\n",
      "5507\n",
      "2557\n",
      "4283\n",
      "4229\n",
      "2801\n",
      "1733\n",
      "3559\n",
      "1223\n",
      "2719\n"
     ]
    }
   ],
   "source": [
    "#Print Linked List\n",
    "\n",
    "print(\"\\nLinked List after deletion Middle @Position:\\n\")        \n",
    "\n",
    "Print_Linked_List(RootNode.leadnode)"
   ]
  },
  {
   "cell_type": "markdown",
   "metadata": {},
   "source": [
    "# Delete in middle according to given number from list:"
   ]
  },
  {
   "cell_type": "code",
   "execution_count": 11,
   "metadata": {},
   "outputs": [
    {
     "name": "stdout",
     "output_type": "stream",
     "text": [
      "\n",
      "DeleteinMiddle: Enter the number from the above list which you want to delete:\n",
      "3559\n"
     ]
    }
   ],
   "source": [
    "number = int(input(\"\\nDeleteinMiddle: Enter the number from the above list which you want to delete:\\n\"))\n",
    "\n",
    "def DeleteMiddleNumber( node):\n",
    "    if number == node.ptr.val:\n",
    "        temp = node.ptr\n",
    "        node.ptr = node.ptr.ptr\n",
    "        del temp\n",
    "        return\n",
    "    else:\n",
    "        DeleteMiddleNumber(node.ptr)\n",
    "\n",
    "\n",
    "DeleteMiddleNumber(RootNode.leadnode)"
   ]
  },
  {
   "cell_type": "code",
   "execution_count": 12,
   "metadata": {},
   "outputs": [
    {
     "name": "stdout",
     "output_type": "stream",
     "text": [
      "\n",
      "Linked List after deletion Middle @Number:\n",
      "\n",
      "1231\n",
      "1427\n",
      "5303\n",
      "5531\n",
      "5507\n",
      "2557\n",
      "4283\n",
      "4229\n",
      "2801\n",
      "1733\n",
      "1223\n",
      "2719\n"
     ]
    }
   ],
   "source": [
    "#Print Linked List\n",
    "\n",
    "print(\"\\nLinked List after deletion Middle @Number:\\n\")        \n",
    "\n",
    "Print_Linked_List(RootNode.leadnode)"
   ]
  },
  {
   "cell_type": "markdown",
   "metadata": {},
   "source": [
    "# Delete in the end:"
   ]
  },
  {
   "cell_type": "code",
   "execution_count": 13,
   "metadata": {},
   "outputs": [],
   "source": [
    "def DeleteEnd(node):\n",
    "    if node.ptr.ptr == None:\n",
    "        temp = node.ptr\n",
    "        node.ptr = None\n",
    "        return\n",
    "    else:\n",
    "        DeleteEnd(node.ptr)\n",
    "\n",
    "DeleteEnd(RootNode.leadnode)"
   ]
  },
  {
   "cell_type": "code",
   "execution_count": 14,
   "metadata": {},
   "outputs": [
    {
     "name": "stdout",
     "output_type": "stream",
     "text": [
      "\n",
      "Linked List after deletion at the end:\n",
      "\n",
      "1231\n",
      "1427\n",
      "5303\n",
      "5531\n",
      "5507\n",
      "2557\n",
      "4283\n",
      "4229\n",
      "2801\n",
      "1733\n",
      "1223\n"
     ]
    }
   ],
   "source": [
    "#Print Linked List\n",
    "print(\"\\nLinked List after deletion at the end:\\n\")        \n",
    "\n",
    "Print_Linked_List(RootNode.leadnode)"
   ]
  },
  {
   "cell_type": "markdown",
   "metadata": {},
   "source": [
    "# Insertion in front:"
   ]
  },
  {
   "cell_type": "code",
   "execution_count": 15,
   "metadata": {},
   "outputs": [
    {
     "name": "stdout",
     "output_type": "stream",
     "text": [
      "\n",
      "Enter the number Which you want to insert at front:\n",
      "5\n"
     ]
    }
   ],
   "source": [
    "number = int(input(\"\\nEnter the number Which you want to insert at front:\\n\"))\n",
    "def InsertFirst():\n",
    "   temp = RootNode.leadnode\n",
    "   RootNode.leadnode = LinkedList(number)\n",
    "   RootNode.leadnode.ptr = temp\n",
    "\n",
    "InsertFirst()"
   ]
  },
  {
   "cell_type": "code",
   "execution_count": 16,
   "metadata": {},
   "outputs": [
    {
     "name": "stdout",
     "output_type": "stream",
     "text": [
      "\n",
      "Linked List after Insertion at the Front:\n",
      "\n",
      "5\n",
      "1231\n",
      "1427\n",
      "5303\n",
      "5531\n",
      "5507\n",
      "2557\n",
      "4283\n",
      "4229\n",
      "2801\n",
      "1733\n",
      "1223\n"
     ]
    }
   ],
   "source": [
    "#Print Linked List\n",
    "\n",
    "print(\"\\nLinked List after Insertion at the Front:\\n\")        \n",
    "\n",
    "Print_Linked_List(RootNode.leadnode)"
   ]
  },
  {
   "cell_type": "markdown",
   "metadata": {},
   "source": [
    "# Insert a number after given position:"
   ]
  },
  {
   "cell_type": "code",
   "execution_count": 17,
   "metadata": {},
   "outputs": [
    {
     "name": "stdout",
     "output_type": "stream",
     "text": [
      "\n",
      "Enter the position after that you want to insert a number:\n",
      "4\n",
      "\n",
      "Enter the number Which you want to insert:\n",
      "7\n"
     ]
    }
   ],
   "source": [
    "position = int(input(\"\\nEnter the position after that you want to insert a number:\\n\"))\n",
    "number = int(input(\"\\nEnter the number Which you want to insert:\\n\"))\n",
    "\n",
    "def InsertatPosition(pos, node):\n",
    "    if pos == position-1:\n",
    "        temp = node.ptr\n",
    "        node.ptr = LinkedList(number)\n",
    "        node.ptr.ptr = temp\n",
    "        return\n",
    "    else:\n",
    "        InsertatPosition(pos+1, node.ptr)\n",
    "\n",
    "InsertatPosition(int(0), RootNode.leadnode)"
   ]
  },
  {
   "cell_type": "code",
   "execution_count": 18,
   "metadata": {},
   "outputs": [
    {
     "name": "stdout",
     "output_type": "stream",
     "text": [
      "\n",
      "Linked List after Insertion at the given middle position:\n",
      "\n",
      "5\n",
      "1231\n",
      "1427\n",
      "5303\n",
      "7\n",
      "5531\n",
      "5507\n",
      "2557\n",
      "4283\n",
      "4229\n",
      "2801\n",
      "1733\n",
      "1223\n"
     ]
    }
   ],
   "source": [
    "#Print Linked List\n",
    "\n",
    "print(\"\\nLinked List after Insertion at the given middle position:\\n\")        \n",
    "\n",
    "Print_Linked_List(RootNode.leadnode)"
   ]
  },
  {
   "cell_type": "markdown",
   "metadata": {},
   "source": [
    "# Insert a number after a number given from the above list:"
   ]
  },
  {
   "cell_type": "code",
   "execution_count": 19,
   "metadata": {},
   "outputs": [
    {
     "name": "stdout",
     "output_type": "stream",
     "text": [
      "\n",
      "Enter the number from above list after that you want to insert a number:\n",
      "2557\n",
      "\n",
      "Enter the number Which you want to insert:\n",
      "13\n"
     ]
    }
   ],
   "source": [
    "position = int(input(\"\\nEnter the number from above list after that you want to insert a number:\\n\"))\n",
    "number = int(input(\"\\nEnter the number Which you want to insert:\\n\"))\n",
    "\n",
    "def InsertafterNumber(pos):\n",
    "    if pos.val == position:\n",
    "        temp = pos.ptr\n",
    "        pos.ptr = LinkedList(number)\n",
    "        pos.ptr.ptr = temp\n",
    "        return\n",
    "    else:\n",
    "        InsertafterNumber(pos.ptr)\n",
    "\n",
    "InsertafterNumber(RootNode.leadnode)"
   ]
  },
  {
   "cell_type": "code",
   "execution_count": 20,
   "metadata": {},
   "outputs": [
    {
     "name": "stdout",
     "output_type": "stream",
     "text": [
      "\n",
      "Linked List: Insertion after the given middle number:\n",
      "\n",
      "5\n",
      "1231\n",
      "1427\n",
      "5303\n",
      "7\n",
      "5531\n",
      "5507\n",
      "2557\n",
      "13\n",
      "4283\n",
      "4229\n",
      "2801\n",
      "1733\n",
      "1223\n"
     ]
    }
   ],
   "source": [
    "#Print Linked List\n",
    "\n",
    "print(\"\\nLinked List: Insertion after the given middle number:\\n\")        \n",
    "\n",
    "Print_Linked_List(RootNode.leadnode)"
   ]
  },
  {
   "cell_type": "markdown",
   "metadata": {},
   "source": [
    "# Insertion at the end:"
   ]
  },
  {
   "cell_type": "code",
   "execution_count": 21,
   "metadata": {},
   "outputs": [
    {
     "name": "stdout",
     "output_type": "stream",
     "text": [
      "\n",
      "Enter the number Which you want to insert at the end:\n",
      "29\n"
     ]
    }
   ],
   "source": [
    "number = int(input(\"\\nEnter the number Which you want to insert at the end:\\n\"))\n",
    "\n",
    "def InsertatEnd(node):\n",
    "    if node.ptr == None:\n",
    "        node.ptr = LinkedList(number)\n",
    "        return\n",
    "    else:\n",
    "        InsertatEnd(node.ptr)\n",
    "\n",
    "InsertatEnd(RootNode.leadnode)"
   ]
  },
  {
   "cell_type": "code",
   "execution_count": 22,
   "metadata": {},
   "outputs": [
    {
     "name": "stdout",
     "output_type": "stream",
     "text": [
      "\n",
      "Linked List: Insertion at the end:\n",
      "\n",
      "5\n",
      "1231\n",
      "1427\n",
      "5303\n",
      "7\n",
      "5531\n",
      "5507\n",
      "2557\n",
      "13\n",
      "4283\n",
      "4229\n",
      "2801\n",
      "1733\n",
      "1223\n",
      "29\n"
     ]
    }
   ],
   "source": [
    "#Print Linked List\n",
    "\n",
    "print(\"\\nLinked List: Insertion at the end:\\n\")        \n",
    "\n",
    "Print_Linked_List(RootNode.leadnode)\n",
    "        "
   ]
  }
 ],
 "metadata": {
  "kernelspec": {
   "display_name": "Python 3",
   "language": "python",
   "name": "python3"
  },
  "language_info": {
   "codemirror_mode": {
    "name": "ipython",
    "version": 3
   },
   "file_extension": ".py",
   "mimetype": "text/x-python",
   "name": "python",
   "nbconvert_exporter": "python",
   "pygments_lexer": "ipython3",
   "version": "3.6.5"
  }
 },
 "nbformat": 4,
 "nbformat_minor": 2
}

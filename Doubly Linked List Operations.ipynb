{
 "cells": [
  {
   "cell_type": "code",
   "execution_count": 1,
   "metadata": {},
   "outputs": [],
   "source": [
    "import random\n",
    "class LinkedList:\n",
    "    def __init__(self, Val = None):\n",
    "        self.val = Val\n",
    "        self.prev = None\n",
    "        self.next = None\n",
    "\n",
    "class HeadNode:\n",
    "    def __init__(self):\n",
    "        self.leadnode = None"
   ]
  },
  {
   "cell_type": "code",
   "execution_count": 2,
   "metadata": {},
   "outputs": [],
   "source": [
    "RootNode = HeadNode()"
   ]
  },
  {
   "cell_type": "code",
   "execution_count": 3,
   "metadata": {},
   "outputs": [],
   "source": [
    "def CreateList(number, obj):\n",
    "    if RootNode.leadnode == None:\n",
    "        RootNode.leadnode = LinkedList(number)\n",
    "        obj = RootNode.leadnode\n",
    "    else:\n",
    "        obj1 = LinkedList(number)\n",
    "        obj.next = obj1\n",
    "        obj.prev = obj\n",
    "        obj = obj1\n",
    "    return obj"
   ]
  },
  {
   "cell_type": "markdown",
   "metadata": {},
   "source": [
    "# Here we first check weather it is  prime number or not. If prime number is there we create a node = call function CurrentNode  "
   ]
  },
  {
   "cell_type": "code",
   "execution_count": 4,
   "metadata": {},
   "outputs": [],
   "source": [
    "CurrentNode = None\n",
    "for i in range(100):\n",
    "    prime = random.randint(47, 5678)\n",
    "    for j in range(2,prime+1):\n",
    "        if (prime%j) == 0:\n",
    "            break                                    \n",
    "    if prime == j:\n",
    "        CurrentNode = CreateList(prime, CurrentNode)\n",
    "tailnode = CurrentNode"
   ]
  },
  {
   "cell_type": "code",
   "execution_count": 5,
   "metadata": {},
   "outputs": [],
   "source": [
    "def Print_Linked_List(printnode):\n",
    "    while printnode is not None:\n",
    "        print(printnode.val)\n",
    "        printnode = printnode.next"
   ]
  },
  {
   "cell_type": "code",
   "execution_count": 6,
   "metadata": {},
   "outputs": [
    {
     "name": "stdout",
     "output_type": "stream",
     "text": [
      "5449\n",
      "739\n",
      "109\n",
      "3709\n",
      "1993\n",
      "107\n",
      "3967\n",
      "5471\n",
      "3947\n",
      "2707\n",
      "5011\n",
      "3313\n",
      "4603\n",
      "4283\n",
      "67\n"
     ]
    }
   ],
   "source": [
    "#Print LInked List\n",
    "Print_Linked_List(RootNode.leadnode)"
   ]
  },
  {
   "cell_type": "markdown",
   "metadata": {},
   "source": [
    "# Deletion in Front FIFO:"
   ]
  },
  {
   "cell_type": "code",
   "execution_count": 7,
   "metadata": {},
   "outputs": [],
   "source": [
    "def DeleteFIFO():\n",
    "    temp = RootNode.leadnode\n",
    "    RootNode.leadnode = RootNode.leadnode.next\n",
    "    RootNode.leadnode.prev = None\n",
    "    del temp\n",
    "\n",
    "DeleteFIFO()"
   ]
  },
  {
   "cell_type": "code",
   "execution_count": 8,
   "metadata": {},
   "outputs": [
    {
     "name": "stdout",
     "output_type": "stream",
     "text": [
      "\n",
      "Linked List after deletion FIFO:\n",
      "\n",
      "739\n",
      "109\n",
      "3709\n",
      "1993\n",
      "107\n",
      "3967\n",
      "5471\n",
      "3947\n",
      "2707\n",
      "5011\n",
      "3313\n",
      "4603\n",
      "4283\n",
      "67\n"
     ]
    }
   ],
   "source": [
    "#Print Linked List\n",
    "\n",
    "print(\"\\nLinked List after deletion FIFO:\\n\")        \n",
    "\n",
    "Print_Linked_List(RootNode.leadnode)"
   ]
  },
  {
   "cell_type": "markdown",
   "metadata": {},
   "source": [
    "# Delete in Middle at a given number:"
   ]
  },
  {
   "cell_type": "code",
   "execution_count": 20,
   "metadata": {},
   "outputs": [
    {
     "name": "stdout",
     "output_type": "stream",
     "text": [
      "\n",
      "DeleteinMiddle: Enter the position of number which you want to delete from list:\n",
      "6\n"
     ]
    }
   ],
   "source": [
    "position = int(input(\"\\nDeleteinMiddle: Enter the position of number which you want to delete from list:\\n\"))\n",
    "\n",
    "def DeleteMiddlePosition(pos, node):\n",
    "    if pos == position:\n",
    "        temp = node\n",
    "        node.prev.next = node.next\n",
    "        node.next.prev = node.prev\n",
    "        del temp\n",
    "        return\n",
    "    else:\n",
    "        DeleteMiddlePosition(pos+1 ,node.next )\n",
    "\n",
    "DeleteMiddlePosition(int(1), RootNode.leadnode)"
   ]
  },
  {
   "cell_type": "code",
   "execution_count": 21,
   "metadata": {},
   "outputs": [
    {
     "name": "stdout",
     "output_type": "stream",
     "text": [
      "\n",
      "Linked List after deletion Middle @Position:\n",
      "\n",
      "739\n",
      "109\n",
      "3709\n",
      "1993\n",
      "107\n",
      "5471\n",
      "3947\n",
      "2707\n",
      "5011\n",
      "3313\n",
      "4603\n",
      "4283\n",
      "67\n"
     ]
    }
   ],
   "source": [
    "#Print Linked List\n",
    "\n",
    "print(\"\\nLinked List after deletion Middle @Position:\\n\")        \n",
    "\n",
    "Print_Linked_List(RootNode.leadnode)"
   ]
  },
  {
   "cell_type": "markdown",
   "metadata": {},
   "source": [
    "# Delete in middle according to given number from list:"
   ]
  },
  {
   "cell_type": "code",
   "execution_count": 22,
   "metadata": {},
   "outputs": [
    {
     "name": "stdout",
     "output_type": "stream",
     "text": [
      "\n",
      "DeleteinMiddle: Enter the number from the above list which you want to delete:\n",
      "107\n"
     ]
    }
   ],
   "source": [
    "number = int(input(\"\\nDeleteinMiddle: Enter the number from the above list which you want to delete:\\n\"))\n",
    "\n",
    "def DeleteMiddleNumber(node):\n",
    "    if node.val == number:\n",
    "        temp = node\n",
    "        node.prev.next = node.next\n",
    "        node.next.prev = node.prev\n",
    "        del temp\n",
    "        return\n",
    "    else:\n",
    "        DeleteMiddleNumber(node.next)\n",
    "\n",
    "DeleteMiddleNumber(RootNode.leadnode)"
   ]
  },
  {
   "cell_type": "code",
   "execution_count": 23,
   "metadata": {},
   "outputs": [
    {
     "name": "stdout",
     "output_type": "stream",
     "text": [
      "\n",
      "Linked List after deletion Middle @Number:\n",
      "\n",
      "739\n",
      "109\n",
      "3709\n",
      "1993\n",
      "5471\n",
      "3947\n",
      "2707\n",
      "5011\n",
      "3313\n",
      "4603\n",
      "4283\n",
      "67\n"
     ]
    }
   ],
   "source": [
    "#Print Linked List\n",
    "\n",
    "print(\"\\nLinked List after deletion Middle @Number:\\n\")        \n",
    "\n",
    "Print_Linked_List(RootNode.leadnode)"
   ]
  },
  {
   "cell_type": "markdown",
   "metadata": {},
   "source": [
    "# Delete in the end:"
   ]
  },
  {
   "cell_type": "code",
   "execution_count": 29,
   "metadata": {},
   "outputs": [
    {
     "ename": "AttributeError",
     "evalue": "'NoneType' object has no attribute 'next'",
     "output_type": "error",
     "traceback": [
      "\u001b[0;31m---------------------------------------------------------------------------\u001b[0m",
      "\u001b[0;31mAttributeError\u001b[0m                            Traceback (most recent call last)",
      "\u001b[0;32m<ipython-input-29-9b36b572e9f6>\u001b[0m in \u001b[0;36m<module>\u001b[0;34m()\u001b[0m\n\u001b[1;32m      7\u001b[0m         \u001b[0mDeleteEnd\u001b[0m\u001b[0;34m(\u001b[0m\u001b[0mnode\u001b[0m\u001b[0;34m.\u001b[0m\u001b[0mnext\u001b[0m\u001b[0;34m)\u001b[0m\u001b[0;34m\u001b[0m\u001b[0m\n\u001b[1;32m      8\u001b[0m \u001b[0;34m\u001b[0m\u001b[0m\n\u001b[0;32m----> 9\u001b[0;31m \u001b[0mDeleteEnd\u001b[0m\u001b[0;34m(\u001b[0m\u001b[0mRootNode\u001b[0m\u001b[0;34m.\u001b[0m\u001b[0mleadnode\u001b[0m\u001b[0;34m)\u001b[0m\u001b[0;34m\u001b[0m\u001b[0m\n\u001b[0m",
      "\u001b[0;32m<ipython-input-29-9b36b572e9f6>\u001b[0m in \u001b[0;36mDeleteEnd\u001b[0;34m(node)\u001b[0m\n\u001b[1;32m      5\u001b[0m         \u001b[0;32mreturn\u001b[0m\u001b[0;34m\u001b[0m\u001b[0m\n\u001b[1;32m      6\u001b[0m     \u001b[0;32melse\u001b[0m\u001b[0;34m:\u001b[0m\u001b[0;34m\u001b[0m\u001b[0m\n\u001b[0;32m----> 7\u001b[0;31m         \u001b[0mDeleteEnd\u001b[0m\u001b[0;34m(\u001b[0m\u001b[0mnode\u001b[0m\u001b[0;34m.\u001b[0m\u001b[0mnext\u001b[0m\u001b[0;34m)\u001b[0m\u001b[0;34m\u001b[0m\u001b[0m\n\u001b[0m\u001b[1;32m      8\u001b[0m \u001b[0;34m\u001b[0m\u001b[0m\n\u001b[1;32m      9\u001b[0m \u001b[0mDeleteEnd\u001b[0m\u001b[0;34m(\u001b[0m\u001b[0mRootNode\u001b[0m\u001b[0;34m.\u001b[0m\u001b[0mleadnode\u001b[0m\u001b[0;34m)\u001b[0m\u001b[0;34m\u001b[0m\u001b[0m\n",
      "\u001b[0;32m<ipython-input-29-9b36b572e9f6>\u001b[0m in \u001b[0;36mDeleteEnd\u001b[0;34m(node)\u001b[0m\n\u001b[1;32m      5\u001b[0m         \u001b[0;32mreturn\u001b[0m\u001b[0;34m\u001b[0m\u001b[0m\n\u001b[1;32m      6\u001b[0m     \u001b[0;32melse\u001b[0m\u001b[0;34m:\u001b[0m\u001b[0;34m\u001b[0m\u001b[0m\n\u001b[0;32m----> 7\u001b[0;31m         \u001b[0mDeleteEnd\u001b[0m\u001b[0;34m(\u001b[0m\u001b[0mnode\u001b[0m\u001b[0;34m.\u001b[0m\u001b[0mnext\u001b[0m\u001b[0;34m)\u001b[0m\u001b[0;34m\u001b[0m\u001b[0m\n\u001b[0m\u001b[1;32m      8\u001b[0m \u001b[0;34m\u001b[0m\u001b[0m\n\u001b[1;32m      9\u001b[0m \u001b[0mDeleteEnd\u001b[0m\u001b[0;34m(\u001b[0m\u001b[0mRootNode\u001b[0m\u001b[0;34m.\u001b[0m\u001b[0mleadnode\u001b[0m\u001b[0;34m)\u001b[0m\u001b[0;34m\u001b[0m\u001b[0m\n",
      "\u001b[0;32m<ipython-input-29-9b36b572e9f6>\u001b[0m in \u001b[0;36mDeleteEnd\u001b[0;34m(node)\u001b[0m\n\u001b[1;32m      5\u001b[0m         \u001b[0;32mreturn\u001b[0m\u001b[0;34m\u001b[0m\u001b[0m\n\u001b[1;32m      6\u001b[0m     \u001b[0;32melse\u001b[0m\u001b[0;34m:\u001b[0m\u001b[0;34m\u001b[0m\u001b[0m\n\u001b[0;32m----> 7\u001b[0;31m         \u001b[0mDeleteEnd\u001b[0m\u001b[0;34m(\u001b[0m\u001b[0mnode\u001b[0m\u001b[0;34m.\u001b[0m\u001b[0mnext\u001b[0m\u001b[0;34m)\u001b[0m\u001b[0;34m\u001b[0m\u001b[0m\n\u001b[0m\u001b[1;32m      8\u001b[0m \u001b[0;34m\u001b[0m\u001b[0m\n\u001b[1;32m      9\u001b[0m \u001b[0mDeleteEnd\u001b[0m\u001b[0;34m(\u001b[0m\u001b[0mRootNode\u001b[0m\u001b[0;34m.\u001b[0m\u001b[0mleadnode\u001b[0m\u001b[0;34m)\u001b[0m\u001b[0;34m\u001b[0m\u001b[0m\n",
      "\u001b[0;32m<ipython-input-29-9b36b572e9f6>\u001b[0m in \u001b[0;36mDeleteEnd\u001b[0;34m(node)\u001b[0m\n\u001b[1;32m      5\u001b[0m         \u001b[0;32mreturn\u001b[0m\u001b[0;34m\u001b[0m\u001b[0m\n\u001b[1;32m      6\u001b[0m     \u001b[0;32melse\u001b[0m\u001b[0;34m:\u001b[0m\u001b[0;34m\u001b[0m\u001b[0m\n\u001b[0;32m----> 7\u001b[0;31m         \u001b[0mDeleteEnd\u001b[0m\u001b[0;34m(\u001b[0m\u001b[0mnode\u001b[0m\u001b[0;34m.\u001b[0m\u001b[0mnext\u001b[0m\u001b[0;34m)\u001b[0m\u001b[0;34m\u001b[0m\u001b[0m\n\u001b[0m\u001b[1;32m      8\u001b[0m \u001b[0;34m\u001b[0m\u001b[0m\n\u001b[1;32m      9\u001b[0m \u001b[0mDeleteEnd\u001b[0m\u001b[0;34m(\u001b[0m\u001b[0mRootNode\u001b[0m\u001b[0;34m.\u001b[0m\u001b[0mleadnode\u001b[0m\u001b[0;34m)\u001b[0m\u001b[0;34m\u001b[0m\u001b[0m\n",
      "\u001b[0;32m<ipython-input-29-9b36b572e9f6>\u001b[0m in \u001b[0;36mDeleteEnd\u001b[0;34m(node)\u001b[0m\n\u001b[1;32m      5\u001b[0m         \u001b[0;32mreturn\u001b[0m\u001b[0;34m\u001b[0m\u001b[0m\n\u001b[1;32m      6\u001b[0m     \u001b[0;32melse\u001b[0m\u001b[0;34m:\u001b[0m\u001b[0;34m\u001b[0m\u001b[0m\n\u001b[0;32m----> 7\u001b[0;31m         \u001b[0mDeleteEnd\u001b[0m\u001b[0;34m(\u001b[0m\u001b[0mnode\u001b[0m\u001b[0;34m.\u001b[0m\u001b[0mnext\u001b[0m\u001b[0;34m)\u001b[0m\u001b[0;34m\u001b[0m\u001b[0m\n\u001b[0m\u001b[1;32m      8\u001b[0m \u001b[0;34m\u001b[0m\u001b[0m\n\u001b[1;32m      9\u001b[0m \u001b[0mDeleteEnd\u001b[0m\u001b[0;34m(\u001b[0m\u001b[0mRootNode\u001b[0m\u001b[0;34m.\u001b[0m\u001b[0mleadnode\u001b[0m\u001b[0;34m)\u001b[0m\u001b[0;34m\u001b[0m\u001b[0m\n",
      "\u001b[0;32m<ipython-input-29-9b36b572e9f6>\u001b[0m in \u001b[0;36mDeleteEnd\u001b[0;34m(node)\u001b[0m\n\u001b[1;32m      5\u001b[0m         \u001b[0;32mreturn\u001b[0m\u001b[0;34m\u001b[0m\u001b[0m\n\u001b[1;32m      6\u001b[0m     \u001b[0;32melse\u001b[0m\u001b[0;34m:\u001b[0m\u001b[0;34m\u001b[0m\u001b[0m\n\u001b[0;32m----> 7\u001b[0;31m         \u001b[0mDeleteEnd\u001b[0m\u001b[0;34m(\u001b[0m\u001b[0mnode\u001b[0m\u001b[0;34m.\u001b[0m\u001b[0mnext\u001b[0m\u001b[0;34m)\u001b[0m\u001b[0;34m\u001b[0m\u001b[0m\n\u001b[0m\u001b[1;32m      8\u001b[0m \u001b[0;34m\u001b[0m\u001b[0m\n\u001b[1;32m      9\u001b[0m \u001b[0mDeleteEnd\u001b[0m\u001b[0;34m(\u001b[0m\u001b[0mRootNode\u001b[0m\u001b[0;34m.\u001b[0m\u001b[0mleadnode\u001b[0m\u001b[0;34m)\u001b[0m\u001b[0;34m\u001b[0m\u001b[0m\n",
      "\u001b[0;32m<ipython-input-29-9b36b572e9f6>\u001b[0m in \u001b[0;36mDeleteEnd\u001b[0;34m(node)\u001b[0m\n\u001b[1;32m      5\u001b[0m         \u001b[0;32mreturn\u001b[0m\u001b[0;34m\u001b[0m\u001b[0m\n\u001b[1;32m      6\u001b[0m     \u001b[0;32melse\u001b[0m\u001b[0;34m:\u001b[0m\u001b[0;34m\u001b[0m\u001b[0m\n\u001b[0;32m----> 7\u001b[0;31m         \u001b[0mDeleteEnd\u001b[0m\u001b[0;34m(\u001b[0m\u001b[0mnode\u001b[0m\u001b[0;34m.\u001b[0m\u001b[0mnext\u001b[0m\u001b[0;34m)\u001b[0m\u001b[0;34m\u001b[0m\u001b[0m\n\u001b[0m\u001b[1;32m      8\u001b[0m \u001b[0;34m\u001b[0m\u001b[0m\n\u001b[1;32m      9\u001b[0m \u001b[0mDeleteEnd\u001b[0m\u001b[0;34m(\u001b[0m\u001b[0mRootNode\u001b[0m\u001b[0;34m.\u001b[0m\u001b[0mleadnode\u001b[0m\u001b[0;34m)\u001b[0m\u001b[0;34m\u001b[0m\u001b[0m\n",
      "\u001b[0;32m<ipython-input-29-9b36b572e9f6>\u001b[0m in \u001b[0;36mDeleteEnd\u001b[0;34m(node)\u001b[0m\n\u001b[1;32m      5\u001b[0m         \u001b[0;32mreturn\u001b[0m\u001b[0;34m\u001b[0m\u001b[0m\n\u001b[1;32m      6\u001b[0m     \u001b[0;32melse\u001b[0m\u001b[0;34m:\u001b[0m\u001b[0;34m\u001b[0m\u001b[0m\n\u001b[0;32m----> 7\u001b[0;31m         \u001b[0mDeleteEnd\u001b[0m\u001b[0;34m(\u001b[0m\u001b[0mnode\u001b[0m\u001b[0;34m.\u001b[0m\u001b[0mnext\u001b[0m\u001b[0;34m)\u001b[0m\u001b[0;34m\u001b[0m\u001b[0m\n\u001b[0m\u001b[1;32m      8\u001b[0m \u001b[0;34m\u001b[0m\u001b[0m\n\u001b[1;32m      9\u001b[0m \u001b[0mDeleteEnd\u001b[0m\u001b[0;34m(\u001b[0m\u001b[0mRootNode\u001b[0m\u001b[0;34m.\u001b[0m\u001b[0mleadnode\u001b[0m\u001b[0;34m)\u001b[0m\u001b[0;34m\u001b[0m\u001b[0m\n",
      "\u001b[0;32m<ipython-input-29-9b36b572e9f6>\u001b[0m in \u001b[0;36mDeleteEnd\u001b[0;34m(node)\u001b[0m\n\u001b[1;32m      5\u001b[0m         \u001b[0;32mreturn\u001b[0m\u001b[0;34m\u001b[0m\u001b[0m\n\u001b[1;32m      6\u001b[0m     \u001b[0;32melse\u001b[0m\u001b[0;34m:\u001b[0m\u001b[0;34m\u001b[0m\u001b[0m\n\u001b[0;32m----> 7\u001b[0;31m         \u001b[0mDeleteEnd\u001b[0m\u001b[0;34m(\u001b[0m\u001b[0mnode\u001b[0m\u001b[0;34m.\u001b[0m\u001b[0mnext\u001b[0m\u001b[0;34m)\u001b[0m\u001b[0;34m\u001b[0m\u001b[0m\n\u001b[0m\u001b[1;32m      8\u001b[0m \u001b[0;34m\u001b[0m\u001b[0m\n\u001b[1;32m      9\u001b[0m \u001b[0mDeleteEnd\u001b[0m\u001b[0;34m(\u001b[0m\u001b[0mRootNode\u001b[0m\u001b[0;34m.\u001b[0m\u001b[0mleadnode\u001b[0m\u001b[0;34m)\u001b[0m\u001b[0;34m\u001b[0m\u001b[0m\n",
      "\u001b[0;32m<ipython-input-29-9b36b572e9f6>\u001b[0m in \u001b[0;36mDeleteEnd\u001b[0;34m(node)\u001b[0m\n\u001b[1;32m      5\u001b[0m         \u001b[0;32mreturn\u001b[0m\u001b[0;34m\u001b[0m\u001b[0m\n\u001b[1;32m      6\u001b[0m     \u001b[0;32melse\u001b[0m\u001b[0;34m:\u001b[0m\u001b[0;34m\u001b[0m\u001b[0m\n\u001b[0;32m----> 7\u001b[0;31m         \u001b[0mDeleteEnd\u001b[0m\u001b[0;34m(\u001b[0m\u001b[0mnode\u001b[0m\u001b[0;34m.\u001b[0m\u001b[0mnext\u001b[0m\u001b[0;34m)\u001b[0m\u001b[0;34m\u001b[0m\u001b[0m\n\u001b[0m\u001b[1;32m      8\u001b[0m \u001b[0;34m\u001b[0m\u001b[0m\n\u001b[1;32m      9\u001b[0m \u001b[0mDeleteEnd\u001b[0m\u001b[0;34m(\u001b[0m\u001b[0mRootNode\u001b[0m\u001b[0;34m.\u001b[0m\u001b[0mleadnode\u001b[0m\u001b[0;34m)\u001b[0m\u001b[0;34m\u001b[0m\u001b[0m\n",
      "\u001b[0;32m<ipython-input-29-9b36b572e9f6>\u001b[0m in \u001b[0;36mDeleteEnd\u001b[0;34m(node)\u001b[0m\n\u001b[1;32m      5\u001b[0m         \u001b[0;32mreturn\u001b[0m\u001b[0;34m\u001b[0m\u001b[0m\n\u001b[1;32m      6\u001b[0m     \u001b[0;32melse\u001b[0m\u001b[0;34m:\u001b[0m\u001b[0;34m\u001b[0m\u001b[0m\n\u001b[0;32m----> 7\u001b[0;31m         \u001b[0mDeleteEnd\u001b[0m\u001b[0;34m(\u001b[0m\u001b[0mnode\u001b[0m\u001b[0;34m.\u001b[0m\u001b[0mnext\u001b[0m\u001b[0;34m)\u001b[0m\u001b[0;34m\u001b[0m\u001b[0m\n\u001b[0m\u001b[1;32m      8\u001b[0m \u001b[0;34m\u001b[0m\u001b[0m\n\u001b[1;32m      9\u001b[0m \u001b[0mDeleteEnd\u001b[0m\u001b[0;34m(\u001b[0m\u001b[0mRootNode\u001b[0m\u001b[0;34m.\u001b[0m\u001b[0mleadnode\u001b[0m\u001b[0;34m)\u001b[0m\u001b[0;34m\u001b[0m\u001b[0m\n",
      "\u001b[0;32m<ipython-input-29-9b36b572e9f6>\u001b[0m in \u001b[0;36mDeleteEnd\u001b[0;34m(node)\u001b[0m\n\u001b[1;32m      2\u001b[0m     \u001b[0;32mif\u001b[0m \u001b[0mnode\u001b[0m\u001b[0;34m.\u001b[0m\u001b[0mnext\u001b[0m \u001b[0;34m==\u001b[0m \u001b[0;32mNone\u001b[0m\u001b[0;34m:\u001b[0m\u001b[0;34m\u001b[0m\u001b[0m\n\u001b[1;32m      3\u001b[0m         \u001b[0mtemp\u001b[0m \u001b[0;34m=\u001b[0m \u001b[0mnode\u001b[0m\u001b[0;34m\u001b[0m\u001b[0m\n\u001b[0;32m----> 4\u001b[0;31m         \u001b[0mnode\u001b[0m\u001b[0;34m.\u001b[0m\u001b[0mprev\u001b[0m\u001b[0;34m.\u001b[0m\u001b[0mnext\u001b[0m \u001b[0;34m=\u001b[0m \u001b[0;32mNone\u001b[0m\u001b[0;34m\u001b[0m\u001b[0m\n\u001b[0m\u001b[1;32m      5\u001b[0m         \u001b[0;32mreturn\u001b[0m\u001b[0;34m\u001b[0m\u001b[0m\n\u001b[1;32m      6\u001b[0m     \u001b[0;32melse\u001b[0m\u001b[0;34m:\u001b[0m\u001b[0;34m\u001b[0m\u001b[0m\n",
      "\u001b[0;31mAttributeError\u001b[0m: 'NoneType' object has no attribute 'next'"
     ]
    }
   ],
   "source": [
    "def DeleteEnd(node):\n",
    "    if node.next == None:\n",
    "        temp = node\n",
    "        node.prev.next = None\n",
    "        return\n",
    "    else:\n",
    "        DeleteEnd(node.next)\n",
    "\n",
    "DeleteEnd(RootNode.leadnode)"
   ]
  },
  {
   "cell_type": "code",
   "execution_count": 38,
   "metadata": {},
   "outputs": [
    {
     "name": "stdout",
     "output_type": "stream",
     "text": [
      "\n",
      "Linked List after deletion at the end:\n",
      "\n",
      "1993\n",
      "197\n",
      "1021\n",
      "3793\n",
      "1601\n",
      "1471\n",
      "1511\n",
      "5077\n",
      "5279\n",
      "1907\n",
      "79\n"
     ]
    }
   ],
   "source": [
    "#Print Linked List\n",
    "print(\"\\nLinked List after deletion at the end:\\n\")        \n",
    "\n",
    "Print_Linked_List(RootNode.leadnode)"
   ]
  },
  {
   "cell_type": "markdown",
   "metadata": {},
   "source": [
    "# Insertion in front:"
   ]
  },
  {
   "cell_type": "code",
   "execution_count": 39,
   "metadata": {},
   "outputs": [
    {
     "name": "stdout",
     "output_type": "stream",
     "text": [
      "\n",
      "Enter the number Which you want to insert at front:\n",
      "45\n"
     ]
    }
   ],
   "source": [
    "number = int(input(\"\\nEnter the number Which you want to insert at front:\\n\"))\n",
    "def InsertFirst():\n",
    "    temp = RootNode.leadnode\n",
    "    RootNode.leadnode = LinkedList(number)\n",
    "    RootNode.leadnode.next = temp\n",
    "\n",
    "InsertFirst()"
   ]
  },
  {
   "cell_type": "code",
   "execution_count": 40,
   "metadata": {},
   "outputs": [
    {
     "name": "stdout",
     "output_type": "stream",
     "text": [
      "\n",
      "Linked List after Insertion at the Front:\n",
      "\n",
      "45\n",
      "1993\n",
      "197\n",
      "1021\n",
      "3793\n",
      "1601\n",
      "1471\n",
      "1511\n",
      "5077\n",
      "5279\n",
      "1907\n",
      "79\n"
     ]
    }
   ],
   "source": [
    "#Print Linked List\n",
    "\n",
    "print(\"\\nLinked List after Insertion at the Front:\\n\")        \n",
    "\n",
    "Print_Linked_List(RootNode.leadnode)"
   ]
  },
  {
   "cell_type": "markdown",
   "metadata": {},
   "source": [
    "# Insert a number after given position:"
   ]
  },
  {
   "cell_type": "code",
   "execution_count": 41,
   "metadata": {},
   "outputs": [
    {
     "name": "stdout",
     "output_type": "stream",
     "text": [
      "\n",
      "Enter the position after that you want to insert a number:\n",
      "5\n",
      "\n",
      "Enter the number Which you want to insert:\n",
      "5656\n"
     ]
    }
   ],
   "source": [
    "position = int(input(\"\\nEnter the position after that you want to insert a number:\\n\"))\n",
    "number = int(input(\"\\nEnter the number Which you want to insert:\\n\"))\n",
    "\n",
    "def InsertatPosition(pos, node):\n",
    "    if pos == position:\n",
    "        temp = node.next\n",
    "        node.next = LinkedList(number)\n",
    "        node.next.prev = node\n",
    "        node.next.next = temp\n",
    "        return\n",
    "    else:\n",
    "        InsertatPosition(pos+1, node.next)\n",
    "\n",
    "InsertatPosition(int(1), RootNode.leadnode)"
   ]
  },
  {
   "cell_type": "code",
   "execution_count": 42,
   "metadata": {},
   "outputs": [
    {
     "name": "stdout",
     "output_type": "stream",
     "text": [
      "\n",
      "Linked List after Insertion at the given middle position:\n",
      "\n",
      "45\n",
      "1993\n",
      "197\n",
      "1021\n",
      "3793\n",
      "5656\n",
      "1601\n",
      "1471\n",
      "1511\n",
      "5077\n",
      "5279\n",
      "1907\n",
      "79\n"
     ]
    }
   ],
   "source": [
    "#Print Linked List\n",
    "\n",
    "print(\"\\nLinked List after Insertion at the given middle position:\\n\")        \n",
    "\n",
    "Print_Linked_List(RootNode.leadnode)"
   ]
  },
  {
   "cell_type": "markdown",
   "metadata": {},
   "source": [
    "# Insert a number after a number given from the above list:"
   ]
  },
  {
   "cell_type": "code",
   "execution_count": 44,
   "metadata": {},
   "outputs": [
    {
     "name": "stdout",
     "output_type": "stream",
     "text": [
      "\n",
      "Enter the number from above list after that you want to insert a number:\n",
      "1021\n",
      "\n",
      "Enter the number Which you want to insert:\n",
      "3433\n"
     ]
    }
   ],
   "source": [
    "position = int(input(\"\\nEnter the number from above list after that you want to insert a number:\\n\"))\n",
    "number = int(input(\"\\nEnter the number Which you want to insert:\\n\"))\n",
    "\n",
    "def InsertafterNumber(node):\n",
    "    if node.val == position:\n",
    "        temp = node.next\n",
    "        node.next = LinkedList(number)\n",
    "        node.next.prev = node\n",
    "        node.next.next = temp\n",
    "        \n",
    "        return\n",
    "    else:\n",
    "        InsertafterNumber(node.next)\n",
    "\n",
    "InsertafterNumber(RootNode.leadnode)"
   ]
  },
  {
   "cell_type": "code",
   "execution_count": 45,
   "metadata": {},
   "outputs": [
    {
     "name": "stdout",
     "output_type": "stream",
     "text": [
      "\n",
      "Linked List: Insertion after the given middle number:\n",
      "\n",
      "45\n",
      "1993\n",
      "197\n",
      "1021\n",
      "3433\n",
      "3793\n",
      "5656\n",
      "1601\n",
      "1471\n",
      "1511\n",
      "5077\n",
      "5279\n",
      "1907\n",
      "79\n"
     ]
    }
   ],
   "source": [
    "#Print Linked List\n",
    "\n",
    "print(\"\\nLinked List: Insertion after the given middle number:\\n\")        \n",
    "\n",
    "Print_Linked_List(RootNode.leadnode)"
   ]
  },
  {
   "cell_type": "markdown",
   "metadata": {},
   "source": [
    "# Insertion at the end:"
   ]
  },
  {
   "cell_type": "code",
   "execution_count": 46,
   "metadata": {},
   "outputs": [
    {
     "name": "stdout",
     "output_type": "stream",
     "text": [
      "\n",
      "Enter the number Which you want to insert at the end:\n",
      "233\n"
     ]
    }
   ],
   "source": [
    "number = int(input(\"\\nEnter the number Which you want to insert at the end:\\n\"))\n",
    "\n",
    "def InsertatEnd(node):\n",
    "    if node.next == None:\n",
    "        node.next = LinkedList(number)\n",
    "        return\n",
    "    else:\n",
    "        InsertatEnd(node.next)\n",
    "\n",
    "InsertatEnd(RootNode.leadnode)"
   ]
  },
  {
   "cell_type": "code",
   "execution_count": 47,
   "metadata": {},
   "outputs": [
    {
     "name": "stdout",
     "output_type": "stream",
     "text": [
      "\n",
      "Linked List: Insertion at the end:\n",
      "\n",
      "45\n",
      "1993\n",
      "197\n",
      "1021\n",
      "3433\n",
      "3793\n",
      "5656\n",
      "1601\n",
      "1471\n",
      "1511\n",
      "5077\n",
      "5279\n",
      "1907\n",
      "79\n",
      "233\n"
     ]
    }
   ],
   "source": [
    "#Print Linked List\n",
    "\n",
    "print(\"\\nLinked List: Insertion at the end:\\n\")        \n",
    "\n",
    "Print_Linked_List(RootNode.leadnode)\n",
    "        "
   ]
  },
  {
   "cell_type": "code",
   "execution_count": null,
   "metadata": {},
   "outputs": [],
   "source": []
  }
 ],
 "metadata": {
  "kernelspec": {
   "display_name": "Python 3",
   "language": "python",
   "name": "python3"
  },
  "language_info": {
   "codemirror_mode": {
    "name": "ipython",
    "version": 3
   },
   "file_extension": ".py",
   "mimetype": "text/x-python",
   "name": "python",
   "nbconvert_exporter": "python",
   "pygments_lexer": "ipython3",
   "version": "3.6.5"
  }
 },
 "nbformat": 4,
 "nbformat_minor": 2
}

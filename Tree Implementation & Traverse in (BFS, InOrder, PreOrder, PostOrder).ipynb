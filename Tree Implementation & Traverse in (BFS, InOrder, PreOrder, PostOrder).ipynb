{
 "cells": [
  {
   "cell_type": "markdown",
   "metadata": {},
   "source": [
    "# Create Node"
   ]
  },
  {
   "cell_type": "code",
   "execution_count": 85,
   "metadata": {},
   "outputs": [],
   "source": [
    "class tree:\n",
    "    def __init__(self, num = None):\n",
    "        self.prime = num\n",
    "        self.left = None\n",
    "        self.right = None"
   ]
  },
  {
   "cell_type": "code",
   "execution_count": 86,
   "metadata": {},
   "outputs": [],
   "source": [
    "def LinkedNode(RN, NN):\n",
    "    if RN == None:\n",
    "        RN = NN\n",
    "        print(\"if \",RN)\n",
    "        return RN\n",
    "    elif NN.prime < RN.prime:\n",
    "        RN.left = LinkedNode(RN.left , NN)\n",
    "        print(\"elif \", RN)\n",
    "        return RN\n",
    "    else:\n",
    "        RN.right = LinkedNode(RN.right, NN)\n",
    "        print(\"else \", RN)\n",
    "        return RN"
   ]
  },
  {
   "cell_type": "code",
   "execution_count": 87,
   "metadata": {},
   "outputs": [
    {
     "name": "stdout",
     "output_type": "stream",
     "text": [
      "Prime Number is :  797\n",
      "if  <__main__.tree object at 0x7ff7e453ac18>\n",
      "<__main__.tree object at 0x7ff7e453ac18> \n",
      "\n",
      "Prime Number is :  2113\n",
      "if  <__main__.tree object at 0x7ff7e453acf8>\n",
      "else  <__main__.tree object at 0x7ff7e453ac18>\n",
      "<__main__.tree object at 0x7ff7e453ac18> \n",
      "\n",
      "Prime Number is :  3793\n",
      "if  <__main__.tree object at 0x7ff7e453a630>\n",
      "else  <__main__.tree object at 0x7ff7e453acf8>\n",
      "else  <__main__.tree object at 0x7ff7e453ac18>\n",
      "<__main__.tree object at 0x7ff7e453ac18> \n",
      "\n",
      "Prime Number is :  4003\n",
      "if  <__main__.tree object at 0x7ff7e453ac50>\n",
      "else  <__main__.tree object at 0x7ff7e453a630>\n",
      "else  <__main__.tree object at 0x7ff7e453acf8>\n",
      "else  <__main__.tree object at 0x7ff7e453ac18>\n",
      "<__main__.tree object at 0x7ff7e453ac18> \n",
      "\n",
      "Prime Number is :  6271\n",
      "if  <__main__.tree object at 0x7ff7e453a7b8>\n",
      "else  <__main__.tree object at 0x7ff7e453ac50>\n",
      "else  <__main__.tree object at 0x7ff7e453a630>\n",
      "else  <__main__.tree object at 0x7ff7e453acf8>\n",
      "else  <__main__.tree object at 0x7ff7e453ac18>\n",
      "<__main__.tree object at 0x7ff7e453ac18> \n",
      "\n",
      "Prime Number is :  5303\n",
      "if  <__main__.tree object at 0x7ff7e453ae10>\n",
      "elif  <__main__.tree object at 0x7ff7e453a7b8>\n",
      "else  <__main__.tree object at 0x7ff7e453ac50>\n",
      "else  <__main__.tree object at 0x7ff7e453a630>\n",
      "else  <__main__.tree object at 0x7ff7e453acf8>\n",
      "else  <__main__.tree object at 0x7ff7e453ac18>\n",
      "<__main__.tree object at 0x7ff7e453ac18> \n",
      "\n",
      "Prime Number is :  881\n",
      "if  <__main__.tree object at 0x7ff7e453af60>\n",
      "elif  <__main__.tree object at 0x7ff7e453acf8>\n",
      "else  <__main__.tree object at 0x7ff7e453ac18>\n",
      "<__main__.tree object at 0x7ff7e453ac18> \n",
      "\n"
     ]
    }
   ],
   "source": [
    "import random\n",
    "\n",
    "headnode = None\n",
    "\n",
    "for i in range(100):\n",
    "    number = random.randint(30,7986)\n",
    "    for j in range(2,number+1):\n",
    "        if number%j == 0:\n",
    "            break\n",
    "    \n",
    "    if j == number:\n",
    "        print(\"Prime Number is : \",number)\n",
    "        newnode = tree(number)\n",
    "        headnode = LinkedNode(headnode, newnode)\n",
    "        print(headnode,\"\\n\")    "
   ]
  },
  {
   "cell_type": "markdown",
   "metadata": {},
   "source": [
    "# Print values in BFS Order"
   ]
  },
  {
   "cell_type": "code",
   "execution_count": 88,
   "metadata": {},
   "outputs": [],
   "source": [
    "def BFS(RN):\n",
    "    print(\"Tree Traverse in BFS Order:\")\n",
    "    Listof_Numbers = [RN]\n",
    "    while(len(Listof_Numbers) != 0):\n",
    "        print(Listof_Numbers[0].prime)\n",
    "        if Listof_Numbers[0].left != None:\n",
    "            Listof_Numbers.append(Listof_Numbers[0].left)\n",
    "        if Listof_Numbers[0].right != None:\n",
    "            Listof_Numbers.append(Listof_Numbers[0].right)\n",
    "        Listof_Numbers = Listof_Numbers[1:]"
   ]
  },
  {
   "cell_type": "code",
   "execution_count": 89,
   "metadata": {},
   "outputs": [
    {
     "name": "stdout",
     "output_type": "stream",
     "text": [
      "Tree Traverse in BFS Order:\n",
      "797\n",
      "2113\n",
      "881\n",
      "3793\n",
      "4003\n",
      "6271\n",
      "5303\n"
     ]
    }
   ],
   "source": [
    "BFS(headnode)"
   ]
  },
  {
   "cell_type": "markdown",
   "metadata": {},
   "source": [
    "# Print values in InOrder"
   ]
  },
  {
   "cell_type": "code",
   "execution_count": 90,
   "metadata": {},
   "outputs": [],
   "source": [
    "def InOrder(RN):\n",
    "    if RN == None:\n",
    "        return\n",
    "    InOrder(RN.left)\n",
    "    \n",
    "    print(RN.prime)\n",
    "    \n",
    "    InOrder(RN.right)"
   ]
  },
  {
   "cell_type": "code",
   "execution_count": 91,
   "metadata": {},
   "outputs": [
    {
     "name": "stdout",
     "output_type": "stream",
     "text": [
      "797\n",
      "881\n",
      "2113\n",
      "3793\n",
      "4003\n",
      "5303\n",
      "6271\n"
     ]
    }
   ],
   "source": [
    "InOrder(headnode)"
   ]
  },
  {
   "cell_type": "markdown",
   "metadata": {},
   "source": [
    "# Print values in PreOrder"
   ]
  },
  {
   "cell_type": "code",
   "execution_count": 92,
   "metadata": {},
   "outputs": [],
   "source": [
    "def PreOrder(RN):\n",
    "    if RN == None:\n",
    "        return\n",
    "    print(RN.prime)\n",
    "    \n",
    "    PreOrder(RN.left)\n",
    "    \n",
    "    PreOrder(RN.right)"
   ]
  },
  {
   "cell_type": "code",
   "execution_count": 93,
   "metadata": {},
   "outputs": [
    {
     "name": "stdout",
     "output_type": "stream",
     "text": [
      "797\n",
      "2113\n",
      "881\n",
      "3793\n",
      "4003\n",
      "6271\n",
      "5303\n"
     ]
    }
   ],
   "source": [
    "PreOrder(headnode)"
   ]
  },
  {
   "cell_type": "markdown",
   "metadata": {},
   "source": [
    "# Print values in PostOrder"
   ]
  },
  {
   "cell_type": "code",
   "execution_count": 94,
   "metadata": {},
   "outputs": [],
   "source": [
    "def PostOrder(RN):\n",
    "    if RN == None:\n",
    "        return\n",
    "    \n",
    "    PostOrder(RN.left)\n",
    "    \n",
    "    PostOrder(RN.right)\n",
    "    \n",
    "    print(RN.prime)"
   ]
  },
  {
   "cell_type": "code",
   "execution_count": 95,
   "metadata": {},
   "outputs": [
    {
     "name": "stdout",
     "output_type": "stream",
     "text": [
      "881\n",
      "5303\n",
      "6271\n",
      "4003\n",
      "3793\n",
      "2113\n",
      "797\n"
     ]
    }
   ],
   "source": [
    "PostOrder(headnode)"
   ]
  }
 ],
 "metadata": {
  "kernelspec": {
   "display_name": "Python 3",
   "language": "python",
   "name": "python3"
  },
  "language_info": {
   "codemirror_mode": {
    "name": "ipython",
    "version": 3
   },
   "file_extension": ".py",
   "mimetype": "text/x-python",
   "name": "python",
   "nbconvert_exporter": "python",
   "pygments_lexer": "ipython3",
   "version": "3.6.5"
  }
 },
 "nbformat": 4,
 "nbformat_minor": 2
}
